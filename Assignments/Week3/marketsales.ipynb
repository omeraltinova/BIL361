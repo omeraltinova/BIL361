{
  "cells": [
    {
      "cell_type": "markdown",
      "metadata": {
        "id": "zUlON4PfKdDG"
      },
      "source": [
        "#### 1- Kütüphanelerin Yüklenmesi"
      ]
    },
    {
      "cell_type": "code",
      "execution_count": null,
      "metadata": {
        "id": "JdHD0cxkKdDI"
      },
      "outputs": [],
      "source": [
        "import numpy as np ## numpy kütüphanesinin import edilmesi\n",
        "import pandas as pd ## pandas kütüphanesinin import edilmesi\n",
        "import seaborn as sns ## seaborn kütüphanesinin import edilmesi\n",
        "import matplotlib.pyplot as plt ## matplotlip kütüphanesinin import edilmesi\n",
        "import datetime as dt ## datetime kütüphanesinin import edilmesi\n",
        "pd.pandas.set_option('display.max_columns', None) ## dataframein tüm sutunlarının görülmesi için gereken kod"
      ]
    },
    {
      "cell_type": "markdown",
      "metadata": {
        "id": "ByJsAbDMKdDJ"
      },
      "source": [
        "### 2- Verisetinin Yüklenmesi"
      ]
    },
    {
      "cell_type": "code",
      "source": [
        "from google.colab import drive\n",
        "drive.mount('/content/drive')   # sen lokaldeysen gerek yok"
      ],
      "metadata": {
        "colab": {
          "base_uri": "https://localhost:8080/"
        },
        "id": "gKqNCatRK-T8",
        "outputId": "acf85c12-a38c-4e2e-fb5f-9c14055a4d98"
      },
      "execution_count": null,
      "outputs": [
        {
          "output_type": "stream",
          "name": "stdout",
          "text": [
            "Mounted at /content/drive\n"
          ]
        }
      ]
    },
    {
      "cell_type": "code",
      "source": [],
      "metadata": {
        "id": "l6G0UDmPK-03"
      },
      "execution_count": null,
      "outputs": []
    },
    {
      "cell_type": "code",
      "execution_count": null,
      "metadata": {
        "collapsed": true,
        "jupyter": {
          "outputs_hidden": true
        },
        "tags": [],
        "id": "8WoZ6sHaKdDJ"
      },
      "outputs": [],
      "source": [
        "### Veri Çok fazla olduğundan biraz zaman alabilir.\n",
        "data = pd.read_excel(\"/content/drive/MyDrive/veri bilimine giriş/3. hafta/MarketSales.xlsx\")"
      ]
    },
    {
      "cell_type": "code",
      "source": [
        "data.head()"
      ],
      "metadata": {
        "id": "quICxC6eN32p"
      },
      "execution_count": null,
      "outputs": []
    },
    {
      "cell_type": "code",
      "execution_count": null,
      "metadata": {
        "id": "gptfgwSQKdDK"
      },
      "outputs": [],
      "source": [
        "data.head(2)"
      ]
    },
    {
      "cell_type": "markdown",
      "metadata": {
        "id": "Um5vuQIwKdDK"
      },
      "source": [
        "### 3- Verisetinin Orjinalınde değişiklik gelmemesei için veriyi başka bir değişkene atayın"
      ]
    },
    {
      "cell_type": "code",
      "source": [
        "data_copy = data.copy()"
      ],
      "metadata": {
        "id": "6npKpr-sbY9p"
      },
      "execution_count": null,
      "outputs": []
    },
    {
      "cell_type": "markdown",
      "metadata": {
        "id": "f3h7UlgvKdDK"
      },
      "source": [
        "### 4-Verisetinin Boyutlarına bulunuz"
      ]
    },
    {
      "cell_type": "code",
      "source": [],
      "metadata": {
        "id": "b_N9k2_lbZs9"
      },
      "execution_count": null,
      "outputs": []
    },
    {
      "cell_type": "markdown",
      "metadata": {
        "id": "nfW3_CSoKdDL"
      },
      "source": [
        "### 5-Verisetinin Sutunlarının İsimlerini Yazdırın"
      ]
    },
    {
      "cell_type": "code",
      "source": [],
      "metadata": {
        "id": "bsAbI0PNbawL"
      },
      "execution_count": null,
      "outputs": []
    },
    {
      "cell_type": "markdown",
      "metadata": {
        "id": "bptBn-UWKdDL"
      },
      "source": [
        "### 6- Veri setinin bilgilerine ulaşılması"
      ]
    },
    {
      "cell_type": "code",
      "source": [],
      "metadata": {
        "id": "85eIrov9bb8R"
      },
      "execution_count": null,
      "outputs": []
    },
    {
      "cell_type": "markdown",
      "metadata": {
        "id": "m1WLrGyjKdDL"
      },
      "source": [
        "### 7- Veri Setinde Boş Değer Varmı sorgulanması"
      ]
    },
    {
      "cell_type": "code",
      "source": [],
      "metadata": {
        "id": "PK9QFSIFbdJl"
      },
      "execution_count": null,
      "outputs": []
    },
    {
      "cell_type": "markdown",
      "metadata": {
        "id": "dWFLNHnkKdDL"
      },
      "source": [
        "### 8- Verisetindeki Sutunlarda Toplam Kaç Adet Değer Var Bulunuz"
      ]
    },
    {
      "cell_type": "code",
      "source": [],
      "metadata": {
        "id": "Xebc6rVhbeRN"
      },
      "execution_count": null,
      "outputs": []
    },
    {
      "cell_type": "markdown",
      "metadata": {
        "id": "reasmdptKdDL"
      },
      "source": [
        "### 9- Verisetinde Toplam Kaç Adet Değer Var Bulunuz"
      ]
    },
    {
      "cell_type": "code",
      "source": [],
      "metadata": {
        "id": "SuKPbhbTbfRh"
      },
      "execution_count": null,
      "outputs": []
    },
    {
      "cell_type": "code",
      "source": [],
      "metadata": {
        "id": "Z3eb1ioVbfJh"
      },
      "execution_count": null,
      "outputs": []
    },
    {
      "cell_type": "markdown",
      "metadata": {
        "id": "49l1ia6vKdDM"
      },
      "source": [
        "### 10- Verisetinde Boş Değer Olan Sutunların İsimlerini yazdıralım"
      ]
    },
    {
      "cell_type": "code",
      "source": [],
      "metadata": {
        "id": "R_XbKN4vbgcx"
      },
      "execution_count": null,
      "outputs": []
    },
    {
      "cell_type": "markdown",
      "metadata": {
        "id": "s-eT195SKdDM"
      },
      "source": [
        "### 11-Verisetinin Sutunlarında Kaç farklı Tip var Onu Bulalım"
      ]
    },
    {
      "cell_type": "code",
      "source": [],
      "metadata": {
        "id": "SB34Ww2lbiQh"
      },
      "execution_count": null,
      "outputs": []
    },
    {
      "cell_type": "markdown",
      "metadata": {
        "id": "x963H1uPKdDM"
      },
      "source": [
        "### 12- Verisetinin Sutunlarındaki Eşsiz Tipler Nelerdir Onlara Bakalım"
      ]
    },
    {
      "cell_type": "code",
      "source": [],
      "metadata": {
        "id": "Lu-lxjvJbj9-"
      },
      "execution_count": null,
      "outputs": []
    },
    {
      "cell_type": "markdown",
      "metadata": {
        "id": "8fe1ThNmKdDM"
      },
      "source": [
        "### 13-Verisetinin İlk 5 Satırını Yazdıralım"
      ]
    },
    {
      "cell_type": "code",
      "source": [],
      "metadata": {
        "id": "ghhKnIPKbljt"
      },
      "execution_count": null,
      "outputs": []
    },
    {
      "cell_type": "markdown",
      "metadata": {
        "id": "xj4vrYixKdDM"
      },
      "source": [
        "### 14-Verisetinin son 7 Satırını Yazdıralım"
      ]
    },
    {
      "cell_type": "code",
      "source": [],
      "metadata": {
        "id": "OzEJwSz9bnCN"
      },
      "execution_count": null,
      "outputs": []
    },
    {
      "cell_type": "markdown",
      "metadata": {
        "id": "lmgX2Jw5KdDM"
      },
      "source": [
        "### 15- Verisetinde her satır için AMOUNT PRICE LINENETTOTAL sutunlarına ait bilgileri yazdıralım"
      ]
    },
    {
      "cell_type": "code",
      "source": [],
      "metadata": {
        "id": "QbeUpwy6bpRx"
      },
      "execution_count": null,
      "outputs": []
    },
    {
      "cell_type": "markdown",
      "metadata": {
        "id": "pWdDiDu8KdDN"
      },
      "source": [
        "### 16- Verisetinde LINENETTOTAL sutunda 15 den büyük olan satırları yazdıralım"
      ]
    },
    {
      "cell_type": "code",
      "source": [],
      "metadata": {
        "id": "E6eyhTG-bszN"
      },
      "execution_count": null,
      "outputs": []
    },
    {
      "cell_type": "markdown",
      "metadata": {
        "id": "7hIzFmslKdDN"
      },
      "source": [
        "### 17- Verisetinde BRANCH ı Balıkesir Subesi olan satırları bulalım"
      ]
    },
    {
      "cell_type": "code",
      "source": [],
      "metadata": {
        "id": "ygGXjVqPbvJ5"
      },
      "execution_count": null,
      "outputs": []
    }
  ],
  "metadata": {
    "kernelspec": {
      "display_name": "Python 3 (ipykernel)",
      "language": "python",
      "name": "python3"
    },
    "language_info": {
      "codemirror_mode": {
        "name": "ipython",
        "version": 3
      },
      "file_extension": ".py",
      "mimetype": "text/x-python",
      "name": "python",
      "nbconvert_exporter": "python",
      "pygments_lexer": "ipython3",
      "version": "3.9.7"
    },
    "colab": {
      "provenance": []
    }
  },
  "nbformat": 4,
  "nbformat_minor": 0
}