{
 "cells": [
  {
   "metadata": {},
   "cell_type": "markdown",
   "source": "Kullanıcıdan Alınan Metni Ekranda Gösterme python kodu",
   "id": "fb3907bc20f9f1d8"
  },
  {
   "metadata": {
    "collapsed": true,
    "ExecuteTime": {
     "end_time": "2025-10-14T15:32:53.141724Z",
     "start_time": "2025-10-14T15:32:49.796153Z"
    }
   },
   "cell_type": "code",
   "source": [
    "user_text = input(\"Metni giriniz: \")\n",
    "print(f\"Girdiğiniz metin: {user_text}\")"
   ],
   "id": "18162d07d764183",
   "outputs": [
    {
     "name": "stdout",
     "output_type": "stream",
     "text": [
      "Girdiğiniz metin: test\n"
     ]
    }
   ],
   "execution_count": 2
  },
  {
   "metadata": {},
   "cell_type": "markdown",
   "source": "Kullanıcının Girdiği İki Sayıyı Toplama\n",
   "id": "a0cde42ee45cfb53"
  },
  {
   "metadata": {
    "ExecuteTime": {
     "end_time": "2025-10-14T15:32:48.137482Z",
     "start_time": "2025-10-14T15:32:44.393567Z"
    }
   },
   "cell_type": "code",
   "source": [
    "def topla(a,b):\n",
    "    return a+b\n",
    "\n",
    "\n",
    "sayi1 = int(input(\"1. sayıyı giriniz: \"))\n",
    "sayi2 = int(input(\"2. sayıyı giriniz: \"))\n",
    "\n",
    "sonuc = topla(sayi1,sayi2)\n",
    "print(f\"Toplama sonucu: {sonuc}\")"
   ],
   "id": "2ce8501c8d8d9ec6",
   "outputs": [
    {
     "name": "stdout",
     "output_type": "stream",
     "text": [
      "Toplama sonucu: 9\n"
     ]
    }
   ],
   "execution_count": 1
  },
  {
   "metadata": {},
   "cell_type": "markdown",
   "source": "Girilen Sayının Tek veya Çift Sayı Olduğunu Belirleme\n",
   "id": "e160fefee71b07c"
  },
  {
   "metadata": {
    "ExecuteTime": {
     "end_time": "2025-10-14T15:34:05.967999Z",
     "start_time": "2025-10-14T15:34:04.962344Z"
    }
   },
   "cell_type": "code",
   "source": [
    "def tekMi(a):\n",
    "    if a%2==0:\n",
    "        return True\n",
    "    else:\n",
    "        return False\n",
    "\n",
    "sayi = int(input(\"Sayıyı giriniz: \"))\n",
    "\n",
    "if tekMi(sayi):\n",
    "    print(\"Sayı çift\")\n",
    "else:\n",
    "    print(\"Sayı tek\")"
   ],
   "id": "96b829fcb5ac1f90",
   "outputs": [
    {
     "name": "stdout",
     "output_type": "stream",
     "text": [
      "Sayı çift\n"
     ]
    }
   ],
   "execution_count": 4
  },
  {
   "metadata": {},
   "cell_type": "markdown",
   "source": "İki Sayı ile İşlem Yapan Basit Hesap Makinesi ve Kullanıcı hatalarını önleme\n",
   "id": "bc158da8f84229f1"
  },
  {
   "metadata": {
    "ExecuteTime": {
     "end_time": "2025-10-14T15:40:37.581496Z",
     "start_time": "2025-10-14T15:40:24.151947Z"
    }
   },
   "cell_type": "code",
   "source": [
    "class HesapMakinesi():\n",
    "    def topla(self,a,b):\n",
    "        return a+b\n",
    "    def cikar(self,a,b):\n",
    "        return a-b\n",
    "    def carp(self,a,b):\n",
    "        return a*b\n",
    "    def bol(self,a,b):\n",
    "        if(b==0):\n",
    "            print(\"Alt taban 0 olamaz!\")\n",
    "            return 0\n",
    "        else:\n",
    "            return a/b\n",
    "\n",
    "hesapla = HesapMakinesi()\n",
    "yanit = 0\n",
    "\n",
    "while(yanit!=1):\n",
    "    yanit2 = int(input(\"Yapmak istediğiniz işlemi seçiniz: \"\n",
    "                       \"1- Çıkış\"\n",
    "                       \"2- Topla\"\n",
    "                       \"3- Çıkar\"\n",
    "                       \"4- Çarp\"\n",
    "                       \"5- Böl\"))\n",
    "    if yanit2==1:\n",
    "        break\n",
    "    elif yanit2==2:\n",
    "        sayi1 = int(input(\"1. sayıyı giriniz: \"))\n",
    "        sayi2 = int(input(\"2. sayıyı giriniz: \"))\n",
    "        print(hesapla.topla(sayi1,sayi2))\n",
    "    elif yanit2==3:\n",
    "        sayi1 = int(input(\"1. sayıyı giriniz: \"))\n",
    "        sayi2 = int(input(\"2. sayıyı giriniz: \"))\n",
    "        print(hesapla.cikar(sayi1,sayi2))\n",
    "    elif yanit2==4:\n",
    "        sayi1 = int(input(\"1. sayıyı giriniz: \"))\n",
    "        sayi2 = int(input(\"2. sayıyı giriniz: \"))\n",
    "        print(hesapla.carp(sayi1,sayi2))\n",
    "    elif yanit2==5:\n",
    "        sayi1 = int(input(\"1. sayıyı giriniz: \"))\n",
    "        sayi2 = int(input(\"2. sayıyı giriniz: \"))\n",
    "        print(hesapla.bol(sayi1,sayi2))\n",
    "\n",
    "\n"
   ],
   "id": "e8bad3ae60049bed",
   "outputs": [
    {
     "name": "stdout",
     "output_type": "stream",
     "text": [
      "Alt taban 0 olamaz!\n",
      "0\n"
     ]
    }
   ],
   "execution_count": 11
  },
  {
   "metadata": {},
   "cell_type": "markdown",
   "source": "",
   "id": "2585f3273e28714f"
  },
  {
   "metadata": {},
   "cell_type": "markdown",
   "source": "+/- İşaretine Her Basıldığında Sayıyı Arttırma/Azaltma\n",
   "id": "2d42714ec3810624"
  },
  {
   "metadata": {
    "ExecuteTime": {
     "end_time": "2025-10-14T15:42:54.363083Z",
     "start_time": "2025-10-14T15:42:44.415481Z"
    }
   },
   "cell_type": "code",
   "source": [
    "baslangic = 5\n",
    "\n",
    "print(\"Başlangıç değeri:\", baslangic)\n",
    "print(\"Her artış/azalış için '+' veya '-' girin. Çıkmak için 'q' yazın.\\n\")\n",
    "\n",
    "while True:\n",
    "    choice = input(\"Seçiminiz (+ / - / q): \").strip()\n",
    "    if choice == \"+\":\n",
    "        baslangic += 1\n",
    "        print(\"Yeni değer:\", baslangic)\n",
    "    elif choice == \"-\":\n",
    "        baslangic -= 1\n",
    "        print(\"Yeni değer:\", baslangic)\n",
    "    elif choice.lower() == \"q\":\n",
    "        print(\"Program sonlandırıldı. Son değer:\", baslangic)\n",
    "        break\n",
    "    else:\n",
    "        print(\"Geçersiz giriş. Lütfen yalnızca '+', '-' veya 'q' kullanın.\")"
   ],
   "id": "3063c46cbb9420ce",
   "outputs": [
    {
     "name": "stdout",
     "output_type": "stream",
     "text": [
      "Başlangıç değeri: 5\n",
      "Her artış/azalış için '+' veya '-' girin. Çıkmak için 'q' yazın.\n",
      "\n",
      "Yeni değer: 6\n",
      "Yeni değer: 5\n",
      "Yeni değer: 6\n",
      "Program sonlandırıldı. Son değer: 6\n"
     ]
    }
   ],
   "execution_count": 14
  },
  {
   "metadata": {},
   "cell_type": "markdown",
   "source": "+10 ile -10 Arasındaki Sayıları Ekrana Yazma\n",
   "id": "805c4243cdd27f2a"
  },
  {
   "metadata": {
    "ExecuteTime": {
     "end_time": "2025-10-14T15:45:19.533407Z",
     "start_time": "2025-10-14T15:45:19.531027Z"
    }
   },
   "cell_type": "code",
   "source": [
    "for i in range(10,-11,-1):\n",
    "    print(i,end=\" \")"
   ],
   "id": "49b7b993734423af",
   "outputs": [
    {
     "name": "stdout",
     "output_type": "stream",
     "text": [
      "10 9 8 7 6 5 4 3 2 1 0 -1 -2 -3 -4 -5 -6 -7 -8 -9 -10 "
     ]
    }
   ],
   "execution_count": 19
  },
  {
   "metadata": {},
   "cell_type": "markdown",
   "source": "1 ile 100 Arasında Rastgele 10 Tam Sayı Üretip Dizi İçine Ekleme\n",
   "id": "87c3b260dab7df5"
  },
  {
   "metadata": {
    "ExecuteTime": {
     "end_time": "2025-10-14T15:49:41.631037Z",
     "start_time": "2025-10-14T15:49:41.627156Z"
    }
   },
   "cell_type": "code",
   "source": [
    "import random\n",
    "\n",
    "dizi = []\n",
    "\n",
    "for i in range(1,10,1):\n",
    "    dizi.append(random.randint(1,100) )\n",
    "\n",
    "print(dizi)\n"
   ],
   "id": "954da00e214b2166",
   "outputs": [
    {
     "name": "stdout",
     "output_type": "stream",
     "text": [
      "[5, 3, 53, 35, 37, 52, 93, 54, 45]\n"
     ]
    }
   ],
   "execution_count": 26
  },
  {
   "metadata": {},
   "cell_type": "markdown",
   "source": "-100 ile +100 Arasındaki 5’e Tam Bölünen Sayıları Yan Yana Gösterme\n",
   "id": "ff671244ecbc4f08"
  },
  {
   "metadata": {
    "ExecuteTime": {
     "end_time": "2025-10-14T15:50:37.465334Z",
     "start_time": "2025-10-14T15:50:37.462220Z"
    }
   },
   "cell_type": "code",
   "source": [
    "dizi = []\n",
    "\n",
    "for i in range(-100,101,1):\n",
    "    if i%5==0:\n",
    "        dizi.append(i)\n",
    "\n",
    "print(dizi,end=\" \")\n"
   ],
   "id": "c455093d88a88887",
   "outputs": [
    {
     "name": "stdout",
     "output_type": "stream",
     "text": [
      "[-100, -95, -90, -85, -80, -75, -70, -65, -60, -55, -50, -45, -40, -35, -30, -25, -20, -15, -10, -5, 0, 5, 10, 15, 20, 25, 30, 35, 40, 45, 50, 55, 60, 65, 70, 75, 80, 85, 90, 95, 100] "
     ]
    }
   ],
   "execution_count": 27
  },
  {
   "metadata": {},
   "cell_type": "markdown",
   "source": "3 sayıyı karşılaştırıp sıralama",
   "id": "322f18b28ac60ace"
  },
  {
   "metadata": {
    "ExecuteTime": {
     "end_time": "2025-10-14T15:55:36.358296Z",
     "start_time": "2025-10-14T15:55:33.243898Z"
    }
   },
   "cell_type": "code",
   "outputs": [
    {
     "name": "stdout",
     "output_type": "stream",
     "text": [
      "[2, 4, 5]\n"
     ]
    }
   ],
   "execution_count": 31,
   "source": [
    "def sirala(a,b,c):\n",
    "    return sorted([a,b,c])\n",
    "\n",
    "sayi1 = int(input(\"1. sayıyı giriniz: \"))\n",
    "sayi2 = int(input(\"2. sayıyı giriniz: \"))\n",
    "sayi3 = int(input(\"3. sayıyı giriniz: \"))\n",
    "\n",
    "print(sirala(sayi1,sayi2,sayi3))\n"
   ],
   "id": "2c811823f2e87e05"
  },
  {
   "metadata": {},
   "cell_type": "markdown",
   "source": "Faktöriyel Hesaplama ve Açılımını Yazdırma\n",
   "id": "b20656a144d18e0a"
  },
  {
   "metadata": {
    "ExecuteTime": {
     "end_time": "2025-10-14T16:01:25.962169Z",
     "start_time": "2025-10-14T16:01:25.958229Z"
    }
   },
   "cell_type": "code",
   "source": [
    "def faktoriyel(n):\n",
    "    if n<0:\n",
    "        print(\"Hatalı giriş\")\n",
    "        return -1\n",
    "    if n ==1 or n == 1:\n",
    "        print(1)\n",
    "        return 1\n",
    "    else:\n",
    "        print(n,end=\"*\")\n",
    "        return faktoriyel(n-1)*n\n",
    "\n",
    "faktoriyel(5)"
   ],
   "id": "b6f6d1f2810c13c9",
   "outputs": [
    {
     "name": "stdout",
     "output_type": "stream",
     "text": [
      "5*4*3*2*1\n"
     ]
    },
    {
     "data": {
      "text/plain": [
       "120"
      ]
     },
     "execution_count": 35,
     "metadata": {},
     "output_type": "execute_result"
    }
   ],
   "execution_count": 35
  },
  {
   "metadata": {},
   "cell_type": "markdown",
   "source": "Metindeki Her Harfin Arasına Virgül Koyma\n",
   "id": "96869d335ec02458"
  },
  {
   "metadata": {
    "ExecuteTime": {
     "end_time": "2025-10-14T16:02:34.383162Z",
     "start_time": "2025-10-14T16:02:30.904813Z"
    }
   },
   "cell_type": "code",
   "source": [
    "metin = input(\"Metin girin\")\n",
    "sonuc = \",\".join(metin)\n",
    "\n",
    "print(sonuc)"
   ],
   "id": "d68f77f9ca0b6c6c",
   "outputs": [
    {
     "name": "stdout",
     "output_type": "stream",
     "text": [
      "s,e,l,a,m\n"
     ]
    }
   ],
   "execution_count": 36
  },
  {
   "metadata": {},
   "cell_type": "markdown",
   "source": "Metindeki İlk Kelime ile Son Kelimeyi Bulma",
   "id": "169afb0c65db69b6"
  },
  {
   "metadata": {
    "ExecuteTime": {
     "end_time": "2025-10-14T16:04:45.225045Z",
     "start_time": "2025-10-14T16:04:34.634024Z"
    }
   },
   "cell_type": "code",
   "source": [
    "metin = input(\"Metin giriniz\")\n",
    "\n",
    "dizi = metin.split()\n",
    "\n",
    "print(f\"İlk kelime: {dizi[0]}\")\n",
    "print(f\"Son Kelime: {dizi[len(dizi)-1]}\")"
   ],
   "id": "d6173e55c95353a4",
   "outputs": [
    {
     "name": "stdout",
     "output_type": "stream",
     "text": [
      "İlk kelime: Merhaba\n",
      "Son Kelime: dünya\n"
     ]
    }
   ],
   "execution_count": 39
  },
  {
   "metadata": {},
   "cell_type": "markdown",
   "source": "Girilen Sayıların Toplamını ve Ortalamasını Bulma\n",
   "id": "4bdf380abfd445a8"
  },
  {
   "metadata": {
    "ExecuteTime": {
     "end_time": "2025-10-14T16:15:14.858508Z",
     "start_time": "2025-10-14T16:15:10.954712Z"
    }
   },
   "cell_type": "code",
   "source": [
    "adet = int(input(\"Kaç sayı gireceksiniz? \"))\n",
    "\n",
    "dizi = []\n",
    "for i in range(adet):\n",
    "    sayi = float(input(f\"{i+1}. sayıyı giriniz: \"))\n",
    "    dizi.append(sayi)\n",
    "\n",
    "toplam = sum(dizi)\n",
    "ortalama = toplam / len(dizi)\n",
    "\n",
    "print(f\"Girilen sayıların toplamı: {toplam}\")\n",
    "print(f\"Girilen sayıların ortalaması: {ortalama}\")"
   ],
   "id": "e21174b6e95a2c3",
   "outputs": [
    {
     "name": "stdout",
     "output_type": "stream",
     "text": [
      "Girilen sayıların toplamı: 30.0\n",
      "Girilen sayıların ortalaması: 10.0\n"
     ]
    }
   ],
   "execution_count": 42
  },
  {
   "metadata": {},
   "cell_type": "markdown",
   "source": "Büyük Harfleri Küçük Harflere, Küçük Harfleri Büyük Harflere Dönüştürme\n",
   "id": "59dc3caf9a3f60a2"
  },
  {
   "metadata": {
    "ExecuteTime": {
     "end_time": "2025-10-15T17:23:37.327080Z",
     "start_time": "2025-10-15T17:23:37.324876Z"
    }
   },
   "cell_type": "code",
   "source": [
    "text = \"Merhaba Dünya\"\n",
    "result = text.swapcase()\n",
    "print(result)"
   ],
   "id": "8b68ce0886341eff",
   "outputs": [
    {
     "name": "stdout",
     "output_type": "stream",
     "text": [
      "mERHABA dÜNYA\n"
     ]
    }
   ],
   "execution_count": 1
  },
  {
   "metadata": {},
   "cell_type": "markdown",
   "source": "Personel Maaşından Yüzdesel Zam Hesaplama\n",
   "id": "ade5da6d8c96569e"
  },
  {
   "metadata": {
    "ExecuteTime": {
     "end_time": "2025-10-15T17:24:35.005874Z",
     "start_time": "2025-10-15T17:24:35.002961Z"
    }
   },
   "cell_type": "code",
   "source": [
    "def zam_hesapla(maas, zam_yuzde):\n",
    "    zam_miktari = maas * zam_yuzde / 100\n",
    "    yeni_maas = maas + zam_miktari\n",
    "    return yeni_maas, zam_miktari\n",
    "\n",
    "maas = 5000\n",
    "zam_yuzde = 10\n",
    "yeni_maas, zam_miktari = zam_hesapla(maas, zam_yuzde)\n",
    "print(f\"Eski Maaş: {maas} TL\")\n",
    "print(f\"Zam Miktarı: {zam_miktari} TL\")\n",
    "print(f\"Yeni Maaş: {yeni_maas} TL\")"
   ],
   "id": "89917fa18f72cda8",
   "outputs": [
    {
     "name": "stdout",
     "output_type": "stream",
     "text": [
      "Eski Maaş: 5000 TL\n",
      "Zam Miktarı: 500.0 TL\n",
      "Yeni Maaş: 5500.0 TL\n"
     ]
    }
   ],
   "execution_count": 2
  },
  {
   "metadata": {},
   "cell_type": "markdown",
   "source": "Sayı Değerlerinin Toplamını Hesaplama\n",
   "id": "d9b6c8e58f148f8b"
  },
  {
   "metadata": {
    "ExecuteTime": {
     "end_time": "2025-10-15T17:25:38.049651Z",
     "start_time": "2025-10-15T17:25:38.047535Z"
    }
   },
   "cell_type": "code",
   "source": [
    "def toplam_hesapla(sayilar):\n",
    "    return sum(sayilar)\n",
    "\n",
    "sayilar = [10, 20, 30, 40, 50]\n",
    "print(f\"Toplam: {toplam_hesapla(sayilar)}\")"
   ],
   "id": "2f75de14cff6da5e",
   "outputs": [
    {
     "name": "stdout",
     "output_type": "stream",
     "text": [
      "Toplam: 150\n"
     ]
    }
   ],
   "execution_count": 3
  },
  {
   "metadata": {},
   "cell_type": "markdown",
   "source": "Kullanıcının Sonsuz Sayıda Girdiği Değerlerin Yanına Tek/Çift Yazma",
   "id": "36bfd8cb74214c67"
  },
  {
   "metadata": {
    "ExecuteTime": {
     "end_time": "2025-10-15T17:26:47.486789Z",
     "start_time": "2025-10-15T17:26:38.681075Z"
    }
   },
   "cell_type": "code",
   "source": [
    "def tek_cift_kontrol(sayi):\n",
    "    return \"ÇİFT\" if sayi % 2 == 0 else \"TEK\"\n",
    "\n",
    "while True:\n",
    "    girdi = input(\"Sayı girin (çıkmak için 'quit' yazın): \")\n",
    "    if girdi.lower() == \"quit\":\n",
    "        break\n",
    "    sayi = int(girdi)\n",
    "    print(f\"{sayi} - {tek_cift_kontrol(sayi)}\")"
   ],
   "id": "bfeb8821779f8a6c",
   "outputs": [
    {
     "name": "stdout",
     "output_type": "stream",
     "text": [
      "5 - TEK\n",
      "4 - ÇİFT\n",
      "3 - TEK\n",
      "2 - ÇİFT\n",
      "1 - TEK\n"
     ]
    }
   ],
   "execution_count": 4
  },
  {
   "metadata": {},
   "cell_type": "markdown",
   "source": "1 ile 300 Arasındaki Sayılardan 11 Sayısına Bölünenleri Bulma\n",
   "id": "6b0ecdae462eb42"
  },
  {
   "metadata": {
    "ExecuteTime": {
     "end_time": "2025-10-15T17:27:39.541570Z",
     "start_time": "2025-10-15T17:27:39.539269Z"
    }
   },
   "cell_type": "code",
   "source": [
    "bolunebilen = []\n",
    "for sayi in range(1, 301):\n",
    "    if sayi % 11 == 0:\n",
    "        bolunebilen.append(sayi)\n",
    "\n",
    "print(f\"11'e bölünen sayılar: {bolunebilen}\")\n",
    "print(f\"Toplam: {len(bolunebilen)} adet\")"
   ],
   "id": "334c52c6eacaba42",
   "outputs": [
    {
     "name": "stdout",
     "output_type": "stream",
     "text": [
      "11'e bölünen sayılar: [11, 22, 33, 44, 55, 66, 77, 88, 99, 110, 121, 132, 143, 154, 165, 176, 187, 198, 209, 220, 231, 242, 253, 264, 275, 286, 297]\n",
      "Toplam: 27 adet\n"
     ]
    }
   ],
   "execution_count": 5
  },
  {
   "metadata": {},
   "cell_type": "markdown",
   "source": "Mutlak Sistemde Sınıfı Geçmek İçin Gereken Final Notunu Hesaplama\n",
   "id": "47642c33673c615"
  },
  {
   "metadata": {
    "ExecuteTime": {
     "end_time": "2025-10-15T17:29:11.473943Z",
     "start_time": "2025-10-15T17:29:11.470739Z"
    }
   },
   "cell_type": "code",
   "source": [
    "vize = 40\n",
    "geçme_notu = 50\n",
    "vize_yuzde = 0.40\n",
    "final_yuzde = 0.60\n",
    "\n",
    "gerekli_final = (geçme_notu - vize * vize_yuzde) / final_yuzde\n",
    "\n",
    "# Final notu minimum 50 olmalı\n",
    "gerekli_final = max(50, gerekli_final)\n",
    "\n",
    "if gerekli_final > 100:\n",
    "    print(\"Sınıfı geçmek imkansız!\")\n",
    "else:\n",
    "    print(f\"Vize: {vize}\")\n",
    "    print(f\"Gereken Final Notu: {gerekli_final:.2f}\")"
   ],
   "id": "a9d79fc879f72274",
   "outputs": [
    {
     "name": "stdout",
     "output_type": "stream",
     "text": [
      "Vize: 40\n",
      "Gereken Final Notu: 56.67\n"
     ]
    }
   ],
   "execution_count": 8
  },
  {
   "metadata": {},
   "cell_type": "markdown",
   "source": "Üç Kenarı Girilen Üçgenin Alanını Hesaplama\n",
   "id": "340aad7fed395f69"
  },
  {
   "metadata": {
    "ExecuteTime": {
     "end_time": "2025-10-15T17:30:23.256862Z",
     "start_time": "2025-10-15T17:30:23.254381Z"
    }
   },
   "cell_type": "code",
   "source": [
    "import math\n",
    "\n",
    "a = 5\n",
    "b = 6\n",
    "c = 7\n",
    "\n",
    "# Üçgen eşitsizliği kontrolü\n",
    "if a + b > c and b + c > a and a + c > b:\n",
    "    s = (a + b + c) / 2\n",
    "    alan = math.sqrt(s * (s - a) * (s - b) * (s - c))\n",
    "    print(f\"Kenarlar: {a}, {b}, {c}\")\n",
    "    print(f\"Alan: {alan:.2f}\")\n",
    "else:\n",
    "    print(\"Geçersiz üçgen!\")"
   ],
   "id": "2ffdad529006fed4",
   "outputs": [
    {
     "name": "stdout",
     "output_type": "stream",
     "text": [
      "Kenarlar: 5, 6, 7\n",
      "Alan: 14.70\n"
     ]
    }
   ],
   "execution_count": 9
  },
  {
   "metadata": {},
   "cell_type": "markdown",
   "source": "Metindeki Sesli Harf Sayısını Hesaplama\n",
   "id": "d94748408daea929"
  },
  {
   "metadata": {
    "ExecuteTime": {
     "end_time": "2025-10-15T17:31:31.868158Z",
     "start_time": "2025-10-15T17:31:31.864894Z"
    }
   },
   "cell_type": "code",
   "source": [
    "metin = \"Merhaba Dünya\"\n",
    "sesli_harfler = \"aeıioöuüAEIİOÖUÜ\"\n",
    "\n",
    "sayac = sum(1 for harf in metin if harf in sesli_harfler)\n",
    "\n",
    "print(f\"Metin: {metin}\")\n",
    "print(f\"Sesli Harf Sayısı: {sayac}\")"
   ],
   "id": "42299fff49c6c17c",
   "outputs": [
    {
     "name": "stdout",
     "output_type": "stream",
     "text": [
      "Metin: Merhaba Dünya\n",
      "Sesli Harf Sayısı: 5\n"
     ]
    }
   ],
   "execution_count": 10
  },
  {
   "metadata": {},
   "cell_type": "markdown",
   "source": "Her Sayıyı Kendisi Kadar Yan Yana Yazdırma\n",
   "id": "8ab6d24e67940d5b"
  },
  {
   "metadata": {
    "ExecuteTime": {
     "end_time": "2025-10-15T17:32:08.771068Z",
     "start_time": "2025-10-15T17:32:07.688598Z"
    }
   },
   "cell_type": "code",
   "source": [
    "n = int(input(\"Kaç sayı yazılsın? \"))\n",
    "\n",
    "for sayi in range(1, n + 1):\n",
    "    print(str(sayi) * sayi)"
   ],
   "id": "984616f89240b4e6",
   "outputs": [
    {
     "name": "stdout",
     "output_type": "stream",
     "text": [
      "1\n",
      "22\n",
      "333\n",
      "4444\n",
      "55555\n"
     ]
    }
   ],
   "execution_count": 11
  },
  {
   "metadata": {},
   "cell_type": "markdown",
   "source": "Tekrarsız Rastgele Sayı Üretme\n",
   "id": "90b92473890cb1b6"
  },
  {
   "metadata": {
    "ExecuteTime": {
     "end_time": "2025-10-15T17:33:06.613946Z",
     "start_time": "2025-10-15T17:33:06.611298Z"
    }
   },
   "cell_type": "code",
   "source": [
    "import random\n",
    "\n",
    "sayilar = random.sample(range(1, 101), 10)\n",
    "print(f\"Tekrarsız 10 rastgele sayı (1-100): {sayilar}\")"
   ],
   "id": "56a1ac0b3b7fa256",
   "outputs": [
    {
     "name": "stdout",
     "output_type": "stream",
     "text": [
      "Tekrarsız 10 rastgele sayı (1-100): [90, 19, 96, 9, 5, 73, 32, 43, 29, 45]\n"
     ]
    }
   ],
   "execution_count": 16
  },
  {
   "metadata": {},
   "cell_type": "markdown",
   "source": "Asal Çarpanlarını Bulma\n",
   "id": "9cdcdf58e0c9409b"
  },
  {
   "metadata": {
    "ExecuteTime": {
     "end_time": "2025-10-15T17:34:02.773918Z",
     "start_time": "2025-10-15T17:34:01.609850Z"
    }
   },
   "cell_type": "code",
   "source": [
    "def asal_carpanlar(sayi):\n",
    "    carpanlar = []\n",
    "    temp = sayi\n",
    "    i = 2\n",
    "\n",
    "    while i * i <= temp:\n",
    "        while temp % i == 0:\n",
    "            carpanlar.append(i)\n",
    "            temp //= i\n",
    "        i += 1\n",
    "\n",
    "    if temp > 1:\n",
    "        carpanlar.append(temp)\n",
    "\n",
    "    return carpanlar\n",
    "\n",
    "sayi = int(input(\"Sayı girin: \"))\n",
    "carpanlar = asal_carpanlar(sayi)\n",
    "\n",
    "print(f\"\\nSayı: {sayi}\")\n",
    "print(f\"Asal Çarpanları: {carpanlar}\")"
   ],
   "id": "64932f5d7e0b3138",
   "outputs": [
    {
     "name": "stdout",
     "output_type": "stream",
     "text": [
      "\n",
      "Sayı: 15\n",
      "Asal Çarpanları: [3, 5]\n"
     ]
    }
   ],
   "execution_count": 19
  },
  {
   "metadata": {},
   "cell_type": "markdown",
   "source": "Metindeki En Uzun Kelimeyi Bulma\n",
   "id": "c531470c80fe646c"
  },
  {
   "metadata": {
    "ExecuteTime": {
     "end_time": "2025-10-15T17:35:58.454997Z",
     "start_time": "2025-10-15T17:35:48.955372Z"
    }
   },
   "cell_type": "code",
   "source": [
    "def en_uzun_kelime(metin):\n",
    "    kelimeler = metin.split()\n",
    "    if not kelimeler:\n",
    "        return None\n",
    "    return max(kelimeler, key=len)\n",
    "\n",
    "metin = input(\"Metin girin: \")\n",
    "en_uzun = en_uzun_kelime(metin)\n",
    "\n",
    "if en_uzun:\n",
    "    print(f\"En Uzun Kelime: {en_uzun} ({len(en_uzun)} harf)\")\n",
    "else:\n",
    "    print(\"Metin boş!\")"
   ],
   "id": "43684fcfa9051e29",
   "outputs": [
    {
     "name": "stdout",
     "output_type": "stream",
     "text": [
      "En Uzun Kelime: cümledeki (9 harf)\n"
     ]
    }
   ],
   "execution_count": 20
  },
  {
   "metadata": {},
   "cell_type": "markdown",
   "source": "Girilen Bir Notun Harf Karşılığını Bulma\n",
   "id": "eaf45c53ea939fa0"
  },
  {
   "metadata": {
    "ExecuteTime": {
     "end_time": "2025-10-15T17:39:01.420188Z",
     "start_time": "2025-10-15T17:38:57.271744Z"
    }
   },
   "cell_type": "code",
   "source": [
    "def not_to_harf(not_sayi):\n",
    "    if not_sayi >= 90:\n",
    "        return \"AA\", 4.00\n",
    "    elif not_sayi >= 85:\n",
    "        return \"BA\", 3.50\n",
    "    elif not_sayi >= 80:\n",
    "        return \"BB\", 3.00\n",
    "    elif not_sayi >= 70:\n",
    "        return \"CB\", 2.50\n",
    "    elif not_sayi >= 60:\n",
    "        return \"CC\", 2.00\n",
    "    elif not_sayi >= 55:\n",
    "        return \"DC\", 1.50\n",
    "    elif not_sayi >= 50:\n",
    "        return \"DD\", 1.00\n",
    "    else:\n",
    "        return \"FF\", 0.00\n",
    "\n",
    "not_sayi = float(input(\"Notu girin (0-100): \"))\n",
    "harf, katsayi = not_to_harf(not_sayi)\n",
    "\n",
    "print(f\"Not: {not_sayi}\")\n",
    "print(f\"Harf Notu: {harf}\")\n",
    "print(f\"Not Katsayısı: {katsayi}\")"
   ],
   "id": "505873b12af8aa6b",
   "outputs": [
    {
     "name": "stdout",
     "output_type": "stream",
     "text": [
      "Not: 81.0\n",
      "Harf Notu: BB\n",
      "Not Katsayısı: 3.0\n"
     ]
    }
   ],
   "execution_count": 22
  },
  {
   "metadata": {},
   "cell_type": "markdown",
   "source": "Cümledeki Her Kelimeyi Tersten Yazdırma\n",
   "id": "45fb04b1975e9275"
  },
  {
   "metadata": {
    "ExecuteTime": {
     "end_time": "2025-10-15T17:40:12.311561Z",
     "start_time": "2025-10-15T17:40:04.676691Z"
    }
   },
   "cell_type": "code",
   "source": [
    "def kelime_tersten(cumle):\n",
    "    kelimeler = cumle.split()\n",
    "    return \" \".join(kelime[::-1] for kelime in kelimeler)\n",
    "\n",
    "cumle = input(\"Cümle girin: \")\n",
    "sonuc = kelime_tersten(cumle)\n",
    "\n",
    "print(f\"Orijinal: {cumle}\")\n",
    "print(f\"Tersten: {sonuc}\")"
   ],
   "id": "8b292e538406479a",
   "outputs": [
    {
     "name": "stdout",
     "output_type": "stream",
     "text": [
      "Orijinal: Merhaba dünya \n",
      "Tersten: abahreM aynüd\n"
     ]
    }
   ],
   "execution_count": 23
  },
  {
   "metadata": {},
   "cell_type": "markdown",
   "source": "Metni Mors Alfabesine Çevirme\n",
   "id": "cae8a4fe4f124670"
  },
  {
   "metadata": {
    "ExecuteTime": {
     "end_time": "2025-10-15T17:41:19.321339Z",
     "start_time": "2025-10-15T17:41:16.915730Z"
    }
   },
   "cell_type": "code",
   "source": [
    "def metin_to_mors(metin):\n",
    "    mors_alfabesi = {\n",
    "        'A': '.-',    'B': '-...',  'C': '-.-.',  'D': '-..',   'E': '.',\n",
    "        'F': '..-.',  'G': '--.',   'H': '....',  'I': '..',    'J': '.---',\n",
    "        'K': '-.-',   'L': '.-..',  'M': '--',    'N': '-.',    'O': '---',\n",
    "        'P': '.--.',  'Q': '--.-',  'R': '.-.',   'S': '...',   'T': '-',\n",
    "        'U': '..-',   'V': '...-',  'W': '.--',   'X': '-..-',  'Y': '-.--',\n",
    "        'Z': '--..',  '0': '-----', '1': '.----', '2': '..---', '3': '...--',\n",
    "        '4': '....-', '5': '.....', '6': '-....', '7': '--...', '8': '---..',\n",
    "        '9': '----.',  '.': '.-.-.-', ',': '--..--', '?': '..--..',\n",
    "    }\n",
    "\n",
    "    mors = []\n",
    "    for harf in metin.upper():\n",
    "        if harf == \" \":\n",
    "            mors.append(\" / \")\n",
    "        elif harf in mors_alfabesi:\n",
    "            mors.append(mors_alfabesi[harf])\n",
    "\n",
    "    return \" \".join(mors)\n",
    "\n",
    "metin = input(\"Metni girin: \")\n",
    "sonuc = metin_to_mors(metin)\n",
    "\n",
    "print(f\"Orijinal: {metin}\")\n",
    "print(f\"Mors: {sonuc}\")"
   ],
   "id": "2136041a2d4e12b",
   "outputs": [
    {
     "name": "stdout",
     "output_type": "stream",
     "text": [
      "Orijinal: IMU\n",
      "Mors: .. -- ..-\n"
     ]
    }
   ],
   "execution_count": 26
  },
  {
   "metadata": {},
   "cell_type": "markdown",
   "source": "Kümülatif Toplam Hesaplama\n",
   "id": "16285d7e3fd3998e"
  },
  {
   "metadata": {
    "ExecuteTime": {
     "end_time": "2025-10-15T17:42:17.408029Z",
     "start_time": "2025-10-15T17:42:17.406056Z"
    }
   },
   "cell_type": "code",
   "source": [
    "def kumulatif_toplam(sayilar):\n",
    "    kumulatif = []\n",
    "    toplam = 0\n",
    "    for sayi in sayilar:\n",
    "        toplam += sayi\n",
    "        kumulatif.append(toplam)\n",
    "    return kumulatif\n",
    "\n",
    "sayilar = [1, 2, 3, 4, 5]\n",
    "sonuc = kumulatif_toplam(sayilar)\n",
    "\n",
    "print(f\"Sayılar: {sayilar}\")\n",
    "print(f\"Kümülatif Toplam: {sonuc}\")"
   ],
   "id": "e384af7b4de66778",
   "outputs": [
    {
     "name": "stdout",
     "output_type": "stream",
     "text": [
      "Sayılar: [1, 2, 3, 4, 5]\n",
      "Kümülatif Toplam: [1, 3, 6, 10, 15]\n"
     ]
    }
   ],
   "execution_count": 27
  }
 ],
 "metadata": {
  "kernelspec": {
   "display_name": "Python 3",
   "language": "python",
   "name": "python3"
  },
  "language_info": {
   "codemirror_mode": {
    "name": "ipython",
    "version": 2
   },
   "file_extension": ".py",
   "mimetype": "text/x-python",
   "name": "python",
   "nbconvert_exporter": "python",
   "pygments_lexer": "ipython2",
   "version": "2.7.6"
  }
 },
 "nbformat": 4,
 "nbformat_minor": 5
}
