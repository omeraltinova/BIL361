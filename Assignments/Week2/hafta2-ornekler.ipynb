{
 "cells": [
  {
   "metadata": {},
   "cell_type": "markdown",
   "source": "Kullanıcıdan Alınan Metni Ekranda Gösterme python kodu",
   "id": "fb3907bc20f9f1d8"
  },
  {
   "metadata": {
    "collapsed": true,
    "ExecuteTime": {
     "end_time": "2025-10-14T15:32:53.141724Z",
     "start_time": "2025-10-14T15:32:49.796153Z"
    }
   },
   "cell_type": "code",
   "source": [
    "user_text = input(\"Metni giriniz: \")\n",
    "print(f\"Girdiğiniz metin: {user_text}\")"
   ],
   "id": "18162d07d764183",
   "outputs": [
    {
     "name": "stdout",
     "output_type": "stream",
     "text": [
      "Girdiğiniz metin: test\n"
     ]
    }
   ],
   "execution_count": 2
  },
  {
   "metadata": {},
   "cell_type": "markdown",
   "source": "Kullanıcının Girdiği İki Sayıyı Toplama\n",
   "id": "a0cde42ee45cfb53"
  },
  {
   "metadata": {
    "ExecuteTime": {
     "end_time": "2025-10-14T15:32:48.137482Z",
     "start_time": "2025-10-14T15:32:44.393567Z"
    }
   },
   "cell_type": "code",
   "source": [
    "def topla(a,b):\n",
    "    return a+b\n",
    "\n",
    "\n",
    "sayi1 = int(input(\"1. sayıyı giriniz: \"))\n",
    "sayi2 = int(input(\"2. sayıyı giriniz: \"))\n",
    "\n",
    "sonuc = topla(sayi1,sayi2)\n",
    "print(f\"Toplama sonucu: {sonuc}\")"
   ],
   "id": "2ce8501c8d8d9ec6",
   "outputs": [
    {
     "name": "stdout",
     "output_type": "stream",
     "text": [
      "Toplama sonucu: 9\n"
     ]
    }
   ],
   "execution_count": 1
  },
  {
   "metadata": {},
   "cell_type": "markdown",
   "source": "Girilen Sayının Tek veya Çift Sayı Olduğunu Belirleme\n",
   "id": "e160fefee71b07c"
  },
  {
   "metadata": {
    "ExecuteTime": {
     "end_time": "2025-10-14T15:34:05.967999Z",
     "start_time": "2025-10-14T15:34:04.962344Z"
    }
   },
   "cell_type": "code",
   "source": [
    "def tekMi(a):\n",
    "    if a%2==0:\n",
    "        return True\n",
    "    else:\n",
    "        return False\n",
    "\n",
    "sayi = int(input(\"Sayıyı giriniz: \"))\n",
    "\n",
    "if tekMi(sayi):\n",
    "    print(\"Sayı çift\")\n",
    "else:\n",
    "    print(\"Sayı tek\")"
   ],
   "id": "96b829fcb5ac1f90",
   "outputs": [
    {
     "name": "stdout",
     "output_type": "stream",
     "text": [
      "Sayı çift\n"
     ]
    }
   ],
   "execution_count": 4
  },
  {
   "metadata": {},
   "cell_type": "markdown",
   "source": "İki Sayı ile İşlem Yapan Basit Hesap Makinesi ve Kullanıcı hatalarını önleme\n",
   "id": "bc158da8f84229f1"
  },
  {
   "metadata": {
    "ExecuteTime": {
     "end_time": "2025-10-14T15:40:37.581496Z",
     "start_time": "2025-10-14T15:40:24.151947Z"
    }
   },
   "cell_type": "code",
   "source": [
    "class HesapMakinesi():\n",
    "    def topla(self,a,b):\n",
    "        return a+b\n",
    "    def cikar(self,a,b):\n",
    "        return a-b\n",
    "    def carp(self,a,b):\n",
    "        return a*b\n",
    "    def bol(self,a,b):\n",
    "        if(b==0):\n",
    "            print(\"Alt taban 0 olamaz!\")\n",
    "            return 0\n",
    "        else:\n",
    "            return a/b\n",
    "\n",
    "hesapla = HesapMakinesi()\n",
    "yanit = 0\n",
    "\n",
    "while(yanit!=1):\n",
    "    yanit2 = int(input(\"Yapmak istediğiniz işlemi seçiniz: \"\n",
    "                       \"1- Çıkış\"\n",
    "                       \"2- Topla\"\n",
    "                       \"3- Çıkar\"\n",
    "                       \"4- Çarp\"\n",
    "                       \"5- Böl\"))\n",
    "    if yanit2==1:\n",
    "        break\n",
    "    elif yanit2==2:\n",
    "        sayi1 = int(input(\"1. sayıyı giriniz: \"))\n",
    "        sayi2 = int(input(\"2. sayıyı giriniz: \"))\n",
    "        print(hesapla.topla(sayi1,sayi2))\n",
    "    elif yanit2==3:\n",
    "        sayi1 = int(input(\"1. sayıyı giriniz: \"))\n",
    "        sayi2 = int(input(\"2. sayıyı giriniz: \"))\n",
    "        print(hesapla.cikar(sayi1,sayi2))\n",
    "    elif yanit2==4:\n",
    "        sayi1 = int(input(\"1. sayıyı giriniz: \"))\n",
    "        sayi2 = int(input(\"2. sayıyı giriniz: \"))\n",
    "        print(hesapla.carp(sayi1,sayi2))\n",
    "    elif yanit2==5:\n",
    "        sayi1 = int(input(\"1. sayıyı giriniz: \"))\n",
    "        sayi2 = int(input(\"2. sayıyı giriniz: \"))\n",
    "        print(hesapla.bol(sayi1,sayi2))\n",
    "\n",
    "\n"
   ],
   "id": "e8bad3ae60049bed",
   "outputs": [
    {
     "name": "stdout",
     "output_type": "stream",
     "text": [
      "Alt taban 0 olamaz!\n",
      "0\n"
     ]
    }
   ],
   "execution_count": 11
  },
  {
   "metadata": {},
   "cell_type": "markdown",
   "source": "",
   "id": "2585f3273e28714f"
  },
  {
   "metadata": {},
   "cell_type": "markdown",
   "source": "+/- İşaretine Her Basıldığında Sayıyı Arttırma/Azaltma\n",
   "id": "2d42714ec3810624"
  },
  {
   "metadata": {
    "ExecuteTime": {
     "end_time": "2025-10-14T15:42:54.363083Z",
     "start_time": "2025-10-14T15:42:44.415481Z"
    }
   },
   "cell_type": "code",
   "source": [
    "baslangic = 5\n",
    "\n",
    "print(\"Başlangıç değeri:\", baslangic)\n",
    "print(\"Her artış/azalış için '+' veya '-' girin. Çıkmak için 'q' yazın.\\n\")\n",
    "\n",
    "while True:\n",
    "    choice = input(\"Seçiminiz (+ / - / q): \").strip()\n",
    "    if choice == \"+\":\n",
    "        baslangic += 1\n",
    "        print(\"Yeni değer:\", baslangic)\n",
    "    elif choice == \"-\":\n",
    "        baslangic -= 1\n",
    "        print(\"Yeni değer:\", baslangic)\n",
    "    elif choice.lower() == \"q\":\n",
    "        print(\"Program sonlandırıldı. Son değer:\", baslangic)\n",
    "        break\n",
    "    else:\n",
    "        print(\"Geçersiz giriş. Lütfen yalnızca '+', '-' veya 'q' kullanın.\")"
   ],
   "id": "3063c46cbb9420ce",
   "outputs": [
    {
     "name": "stdout",
     "output_type": "stream",
     "text": [
      "Başlangıç değeri: 5\n",
      "Her artış/azalış için '+' veya '-' girin. Çıkmak için 'q' yazın.\n",
      "\n",
      "Yeni değer: 6\n",
      "Yeni değer: 5\n",
      "Yeni değer: 6\n",
      "Program sonlandırıldı. Son değer: 6\n"
     ]
    }
   ],
   "execution_count": 14
  },
  {
   "metadata": {},
   "cell_type": "markdown",
   "source": "+10 ile -10 Arasındaki Sayıları Ekrana Yazma\n",
   "id": "805c4243cdd27f2a"
  },
  {
   "metadata": {
    "ExecuteTime": {
     "end_time": "2025-10-14T15:45:19.533407Z",
     "start_time": "2025-10-14T15:45:19.531027Z"
    }
   },
   "cell_type": "code",
   "source": [
    "for i in range(10,-11,-1):\n",
    "    print(i,end=\" \")"
   ],
   "id": "49b7b993734423af",
   "outputs": [
    {
     "name": "stdout",
     "output_type": "stream",
     "text": [
      "10 9 8 7 6 5 4 3 2 1 0 -1 -2 -3 -4 -5 -6 -7 -8 -9 -10 "
     ]
    }
   ],
   "execution_count": 19
  },
  {
   "metadata": {},
   "cell_type": "markdown",
   "source": "1 ile 100 Arasında Rastgele 10 Tam Sayı Üretip Dizi İçine Ekleme\n",
   "id": "87c3b260dab7df5"
  },
  {
   "metadata": {
    "ExecuteTime": {
     "end_time": "2025-10-14T15:49:41.631037Z",
     "start_time": "2025-10-14T15:49:41.627156Z"
    }
   },
   "cell_type": "code",
   "source": [
    "import random\n",
    "\n",
    "dizi = []\n",
    "\n",
    "for i in range(1,10,1):\n",
    "    dizi.append(random.randint(1,100) )\n",
    "\n",
    "print(dizi)\n"
   ],
   "id": "954da00e214b2166",
   "outputs": [
    {
     "name": "stdout",
     "output_type": "stream",
     "text": [
      "[5, 3, 53, 35, 37, 52, 93, 54, 45]\n"
     ]
    }
   ],
   "execution_count": 26
  },
  {
   "metadata": {},
   "cell_type": "markdown",
   "source": "-100 ile +100 Arasındaki 5’e Tam Bölünen Sayıları Yan Yana Gösterme\n",
   "id": "ff671244ecbc4f08"
  },
  {
   "metadata": {
    "ExecuteTime": {
     "end_time": "2025-10-14T15:50:37.465334Z",
     "start_time": "2025-10-14T15:50:37.462220Z"
    }
   },
   "cell_type": "code",
   "source": [
    "dizi = []\n",
    "\n",
    "for i in range(-100,101,1):\n",
    "    if i%5==0:\n",
    "        dizi.append(i)\n",
    "\n",
    "print(dizi,end=\" \")\n"
   ],
   "id": "c455093d88a88887",
   "outputs": [
    {
     "name": "stdout",
     "output_type": "stream",
     "text": [
      "[-100, -95, -90, -85, -80, -75, -70, -65, -60, -55, -50, -45, -40, -35, -30, -25, -20, -15, -10, -5, 0, 5, 10, 15, 20, 25, 30, 35, 40, 45, 50, 55, 60, 65, 70, 75, 80, 85, 90, 95, 100] "
     ]
    }
   ],
   "execution_count": 27
  },
  {
   "metadata": {},
   "cell_type": "markdown",
   "source": "3 sayıyı karşılaştırıp sıralama",
   "id": "322f18b28ac60ace"
  },
  {
   "metadata": {
    "ExecuteTime": {
     "end_time": "2025-10-14T15:55:36.358296Z",
     "start_time": "2025-10-14T15:55:33.243898Z"
    }
   },
   "cell_type": "code",
   "outputs": [
    {
     "name": "stdout",
     "output_type": "stream",
     "text": [
      "[2, 4, 5]\n"
     ]
    }
   ],
   "execution_count": 31,
   "source": [
    "def sirala(a,b,c):\n",
    "    return sorted([a,b,c])\n",
    "\n",
    "sayi1 = int(input(\"1. sayıyı giriniz: \"))\n",
    "sayi2 = int(input(\"2. sayıyı giriniz: \"))\n",
    "sayi3 = int(input(\"3. sayıyı giriniz: \"))\n",
    "\n",
    "print(sirala(sayi1,sayi2,sayi3))\n"
   ],
   "id": "2c811823f2e87e05"
  },
  {
   "metadata": {},
   "cell_type": "markdown",
   "source": "Faktöriyel Hesaplama ve Açılımını Yazdırma\n",
   "id": "b20656a144d18e0a"
  },
  {
   "metadata": {
    "ExecuteTime": {
     "end_time": "2025-10-14T16:01:25.962169Z",
     "start_time": "2025-10-14T16:01:25.958229Z"
    }
   },
   "cell_type": "code",
   "source": [
    "def faktoriyel(n):\n",
    "    if n<0:\n",
    "        print(\"Hatalı giriş\")\n",
    "        return -1\n",
    "    if n ==1 or n == 1:\n",
    "        print(1)\n",
    "        return 1\n",
    "    else:\n",
    "        print(n,end=\"*\")\n",
    "        return faktoriyel(n-1)*n\n",
    "\n",
    "faktoriyel(5)"
   ],
   "id": "b6f6d1f2810c13c9",
   "outputs": [
    {
     "name": "stdout",
     "output_type": "stream",
     "text": [
      "5*4*3*2*1\n"
     ]
    },
    {
     "data": {
      "text/plain": [
       "120"
      ]
     },
     "execution_count": 35,
     "metadata": {},
     "output_type": "execute_result"
    }
   ],
   "execution_count": 35
  },
  {
   "metadata": {},
   "cell_type": "markdown",
   "source": "Metindeki Her Harfin Arasına Virgül Koyma\n",
   "id": "96869d335ec02458"
  },
  {
   "metadata": {
    "ExecuteTime": {
     "end_time": "2025-10-14T16:02:34.383162Z",
     "start_time": "2025-10-14T16:02:30.904813Z"
    }
   },
   "cell_type": "code",
   "source": [
    "metin = input(\"Metin girin\")\n",
    "sonuc = \",\".join(metin)\n",
    "\n",
    "print(sonuc)"
   ],
   "id": "d68f77f9ca0b6c6c",
   "outputs": [
    {
     "name": "stdout",
     "output_type": "stream",
     "text": [
      "s,e,l,a,m\n"
     ]
    }
   ],
   "execution_count": 36
  },
  {
   "metadata": {},
   "cell_type": "markdown",
   "source": "Metindeki İlk Kelime ile Son Kelimeyi Bulma",
   "id": "169afb0c65db69b6"
  },
  {
   "metadata": {
    "ExecuteTime": {
     "end_time": "2025-10-14T16:04:45.225045Z",
     "start_time": "2025-10-14T16:04:34.634024Z"
    }
   },
   "cell_type": "code",
   "source": [
    "metin = input(\"Metin giriniz\")\n",
    "\n",
    "dizi = metin.split()\n",
    "\n",
    "print(f\"İlk kelime: {dizi[0]}\")\n",
    "print(f\"Son Kelime: {dizi[len(dizi)-1]}\")"
   ],
   "id": "d6173e55c95353a4",
   "outputs": [
    {
     "name": "stdout",
     "output_type": "stream",
     "text": [
      "İlk kelime: Merhaba\n",
      "Son Kelime: dünya\n"
     ]
    }
   ],
   "execution_count": 39
  },
  {
   "metadata": {},
   "cell_type": "markdown",
   "source": "Girilen Sayıların Toplamını ve Ortalamasını Bulma\n",
   "id": "4bdf380abfd445a8"
  },
  {
   "metadata": {
    "ExecuteTime": {
     "end_time": "2025-10-14T16:15:14.858508Z",
     "start_time": "2025-10-14T16:15:10.954712Z"
    }
   },
   "cell_type": "code",
   "source": [
    "adet = int(input(\"Kaç sayı gireceksiniz? \"))\n",
    "\n",
    "dizi = []\n",
    "for i in range(adet):\n",
    "    sayi = float(input(f\"{i+1}. sayıyı giriniz: \"))\n",
    "    dizi.append(sayi)\n",
    "\n",
    "toplam = sum(dizi)\n",
    "ortalama = toplam / len(dizi)\n",
    "\n",
    "print(f\"Girilen sayıların toplamı: {toplam}\")\n",
    "print(f\"Girilen sayıların ortalaması: {ortalama}\")"
   ],
   "id": "e21174b6e95a2c3",
   "outputs": [
    {
     "name": "stdout",
     "output_type": "stream",
     "text": [
      "Girilen sayıların toplamı: 30.0\n",
      "Girilen sayıların ortalaması: 10.0\n"
     ]
    }
   ],
   "execution_count": 42
  }
 ],
 "metadata": {
  "kernelspec": {
   "display_name": "Python 3",
   "language": "python",
   "name": "python3"
  },
  "language_info": {
   "codemirror_mode": {
    "name": "ipython",
    "version": 2
   },
   "file_extension": ".py",
   "mimetype": "text/x-python",
   "name": "python",
   "nbconvert_exporter": "python",
   "pygments_lexer": "ipython2",
   "version": "2.7.6"
  }
 },
 "nbformat": 4,
 "nbformat_minor": 5
}
