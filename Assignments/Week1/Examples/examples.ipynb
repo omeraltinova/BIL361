{
 "cells": [
  {
   "metadata": {},
   "cell_type": "markdown",
   "source": [
    "Yaygın python veri tipleri:\n",
    "\n",
    "str - String (metin)\n",
    "\n",
    "int - Integer (tam sayı)\n",
    "\n",
    "\n",
    "float - Float (ondalıklı sayı)\n",
    "\n",
    "bool - Boolean (True/False)\n",
    "\n",
    "list - Liste\n"
   ],
   "id": "4c0a5ae22555edcf"
  },
  {
   "metadata": {},
   "cell_type": "markdown",
   "source": "Print fonksiyonu konsola bir mesaj yazdırır. Help fonksiyonu ise bir fonksiyonun ne yaptığını açıklar ve bize yardımcı olur.\n",
   "id": "c0b022394f0095ef"
  },
  {
   "metadata": {
    "collapsed": true,
    "ExecuteTime": {
     "end_time": "2025-10-13T16:11:34.226849Z",
     "start_time": "2025-10-13T16:11:34.223529Z"
    }
   },
   "cell_type": "code",
   "outputs": [
    {
     "name": "stdout",
     "output_type": "stream",
     "text": [
      "Hello World!\n",
      "Help on built-in function print in module builtins:\n",
      "\n",
      "print(*args, sep=' ', end='\\n', file=None, flush=False)\n",
      "    Prints the values to a stream, or to sys.stdout by default.\n",
      "\n",
      "    sep\n",
      "      string inserted between values, default a space.\n",
      "    end\n",
      "      string appended after the last value, default a newline.\n",
      "    file\n",
      "      a file-like object (stream); defaults to the current sys.stdout.\n",
      "    flush\n",
      "      whether to forcibly flush the stream.\n",
      "\n"
     ]
    }
   ],
   "execution_count": 3,
   "source": [
    "print(\"Hello World!\")\n",
    "help(print)"
   ],
   "id": "8a59d24578ecc826"
  },
  {
   "metadata": {
    "ExecuteTime": {
     "end_time": "2025-10-13T16:16:55.739143Z",
     "start_time": "2025-10-13T16:16:55.737094Z"
    }
   },
   "cell_type": "code",
   "outputs": [
    {
     "name": "stdout",
     "output_type": "stream",
     "text": [
      "world!\n"
     ]
    }
   ],
   "execution_count": 11,
   "source": [
    "\"\"\"print(\"hello\")\"\"\"\n",
    "print(\"world!\")"
   ],
   "id": "a8e645fa562f1a0c"
  },
  {
   "metadata": {},
   "cell_type": "markdown",
   "source": [
    "Python'da 2 çeşit yorum satırı çeşidi vardır:\n",
    "\n",
    "1- Tek satırlı yorum:\n",
    "\n",
    "'#' ile yazılır tek satırı kapsar\n",
    "\n",
    "2- Çok satırlı yorum\n",
    "\n",
    "\n",
    "\"\"\"\n",
    "Birden çok satır için kullanılır fonksiyon içinde açıklama için genelde kullanılır.\n",
    "\"\"\"\n",
    "\n"
   ],
   "id": "f539840b47e673d0"
  },
  {
   "metadata": {
    "ExecuteTime": {
     "end_time": "2025-10-13T16:18:36.671764Z",
     "start_time": "2025-10-13T16:18:36.667411Z"
    }
   },
   "cell_type": "code",
   "source": [
    "metin = \"Math\"\n",
    "sayi = 5\n",
    "type(metin)\n",
    "type(sayi)"
   ],
   "id": "e8c4638b1dee61fd",
   "outputs": [
    {
     "data": {
      "text/plain": [
       "int"
      ]
     },
     "execution_count": 25,
     "metadata": {},
     "output_type": "execute_result"
    }
   ],
   "execution_count": 25
  },
  {
   "metadata": {},
   "cell_type": "markdown",
   "source": "Type bir değişken veya değerin veri tipini gösterir.\n",
   "id": "ef7d6d1ae626cdfe"
  },
  {
   "metadata": {
    "ExecuteTime": {
     "end_time": "2025-10-13T16:22:31.948627Z",
     "start_time": "2025-10-13T16:22:31.945971Z"
    }
   },
   "cell_type": "code",
   "source": [
    "def toplam(a,b):\n",
    "    return a+b\n",
    "\n",
    "toplam(5,4)"
   ],
   "id": "acc8464d4f56207b",
   "outputs": [
    {
     "data": {
      "text/plain": [
       "9"
      ]
     },
     "execution_count": 28,
     "metadata": {},
     "output_type": "execute_result"
    }
   ],
   "execution_count": 28
  },
  {
   "metadata": {},
   "cell_type": "markdown",
   "source": "Python üzerinde fonksiyon tanımlama def ile yapılır yukarıda gösterdiğim toplam fonksiyonu iki parametre alan ve bu paremetlerin toplamını döndüren bir fonksiyondur.",
   "id": "edbf8a446de67e9e"
  },
  {
   "metadata": {
    "ExecuteTime": {
     "end_time": "2025-10-13T16:23:34.460680Z",
     "start_time": "2025-10-13T16:23:34.455908Z"
    }
   },
   "cell_type": "code",
   "source": [
    "def faktoriyel(a):\n",
    "    if a==1:\n",
    "        return 1\n",
    "    else:\n",
    "        return a*faktoriyel(a-1)\n",
    "\n",
    "faktoriyel(5)"
   ],
   "id": "374d056ac0cc6443",
   "outputs": [
    {
     "data": {
      "text/plain": [
       "120"
      ]
     },
     "execution_count": 29,
     "metadata": {},
     "output_type": "execute_result"
    }
   ],
   "execution_count": 29
  },
  {
   "metadata": {},
   "cell_type": "markdown",
   "source": "Yukarıdaki fonksiyon ise rekürsif bir faktoriyel hesaplama fonksiyonudur. Rekürsiflik bir fonksiyonun kendi içinde kendini çağırması olarak tanımlayabiliriz.",
   "id": "550395614e7a5c9c"
  },
  {
   "metadata": {
    "ExecuteTime": {
     "end_time": "2025-10-13T16:25:29.497074Z",
     "start_time": "2025-10-13T16:25:29.493964Z"
    }
   },
   "cell_type": "code",
   "source": [
    "liste = [1,3,4,2,7]\n",
    "print(liste)\n",
    "liste.append(6)\n",
    "print(liste)\n",
    "liste.remove(2)\n",
    "liste.sort()\n",
    "liste.reverse()\n",
    "print(liste)\n"
   ],
   "id": "f7b9a0b51e40bc99",
   "outputs": [
    {
     "name": "stdout",
     "output_type": "stream",
     "text": [
      "[1, 3, 4, 2, 7]\n",
      "[1, 3, 4, 2, 7, 6]\n",
      "[7, 6, 4, 3, 1]\n"
     ]
    }
   ],
   "execution_count": 41
  },
  {
   "metadata": {},
   "cell_type": "markdown",
   "source": "Yukarıda tek boyutlu bir diziyi ve dizide yapılabilecek bazı işlemleri gösterdim. Listeye bir değer ekleme, bir değeri silme, sıralama veya tersine çevirme gibi. Pythonda bunu yapmak diğer birçok dile göre daha kolay.",
   "id": "c34ae78e25981ca3"
  },
  {
   "metadata": {
    "ExecuteTime": {
     "end_time": "2025-10-13T16:28:27.605930Z",
     "start_time": "2025-10-13T16:28:27.601836Z"
    }
   },
   "cell_type": "code",
   "source": [
    "import math as matematik\n",
    "\n",
    "print(matematik.pow(3,2))\n",
    "print(matematik.sin(30))\n",
    "\n",
    "matematik.sqrt(16)"
   ],
   "id": "e85d0f04f047e89e",
   "outputs": [
    {
     "name": "stdout",
     "output_type": "stream",
     "text": [
      "9.0\n",
      "0.08323691620031025\n"
     ]
    },
    {
     "data": {
      "text/plain": [
       "4.0"
      ]
     },
     "execution_count": 50,
     "metadata": {},
     "output_type": "execute_result"
    }
   ],
   "execution_count": 50
  },
  {
   "metadata": {},
   "cell_type": "markdown",
   "source": "Pythondaki hazır kütüphanelerden biri olan math kütüphanesini göstermek istedim. Bu kütüphane ile birçok matematik işlemini kolayca yapabiliyoruz.",
   "id": "16e7f40d68fc2f4f"
  },
  {
   "metadata": {
    "ExecuteTime": {
     "end_time": "2025-10-13T16:30:13.130843Z",
     "start_time": "2025-10-13T16:30:13.128452Z"
    }
   },
   "cell_type": "code",
   "source": [
    "counter = 1\n",
    "\n",
    "while counter <= 5:\n",
    "    if counter % 2 == 0:\n",
    "        print(f\"{counter} çift\")\n",
    "    else:\n",
    "        print(f\"{counter} tek\")\n",
    "    counter += 1"
   ],
   "id": "552f4a790b6017c0",
   "outputs": [
    {
     "name": "stdout",
     "output_type": "stream",
     "text": [
      "1 tek\n",
      "2 çift\n",
      "3 tek\n",
      "4 çift\n",
      "5 tek\n"
     ]
    }
   ],
   "execution_count": 51
  },
  {
   "metadata": {},
   "cell_type": "markdown",
   "source": "Yukarıda while ve if-else döngülerinin mantığını anlatmak istedim. while bir şart sağlandığı sürece döngüyü devam ettirir. if ve else işe bir şartın kontrolünü yapar ve ona göre işlemi gerçekleştirir.",
   "id": "efcd09ad8cde4551"
  },
  {
   "metadata": {
    "ExecuteTime": {
     "end_time": "2025-10-13T16:34:33.182652Z",
     "start_time": "2025-10-13T16:34:33.177496Z"
    }
   },
   "cell_type": "code",
   "source": [
    "class Model():\n",
    "\n",
    "    isim =\"Master\"\n",
    "    model=\"master:7b\"\n",
    "\n",
    "    @staticmethod\n",
    "    def hakkinda():\n",
    "        print(model1.isim + \" \" + model1.model)\n",
    "\n",
    "\n",
    "model1 = Model()\n",
    "model1.hakkinda()"
   ],
   "id": "49af212cb1921f20",
   "outputs": [
    {
     "name": "stdout",
     "output_type": "stream",
     "text": [
      "Master master:7b\n"
     ]
    }
   ],
   "execution_count": 58
  },
  {
   "metadata": {},
   "cell_type": "markdown",
   "source": "Temel bir sınıf tanımlama yapısı",
   "id": "e7e1991a1500604d"
  },
  {
   "metadata": {},
   "cell_type": "markdown",
   "source": "",
   "id": "f91340705bccee33"
  }
 ],
 "metadata": {
  "kernelspec": {
   "display_name": "Python 3",
   "language": "python",
   "name": "python3"
  },
  "language_info": {
   "codemirror_mode": {
    "name": "ipython",
    "version": 2
   },
   "file_extension": ".py",
   "mimetype": "text/x-python",
   "name": "python",
   "nbconvert_exporter": "python",
   "pygments_lexer": "ipython2",
   "version": "2.7.6"
  }
 },
 "nbformat": 4,
 "nbformat_minor": 5
}
