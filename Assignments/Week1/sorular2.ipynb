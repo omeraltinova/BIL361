{
 "cells": [
  {
   "cell_type": "code",
   "id": "initial_id",
   "metadata": {
    "collapsed": true,
    "ExecuteTime": {
     "end_time": "2025-10-13T17:02:49.532322Z",
     "start_time": "2025-10-13T17:02:49.526738Z"
    }
   },
   "source": [
    "class Insan:\n",
    "    def __init__(self, isim, soyisim):\n",
    "        self.isim = isim\n",
    "        self.soyisim = soyisim\n",
    "\n",
    "    def konus(self):\n",
    "        print(f\"Merhaba, ben {self.isim} {self.soyisim}\")\n",
    "\n",
    "\n",
    "class Hoca(Insan):\n",
    "    def __init__(self, isim, soyisim, ders, sicil_numarasi):\n",
    "        super().__init__(isim, soyisim)\n",
    "        self.ders = ders\n",
    "        self.sicil_numarasi = sicil_numarasi\n",
    "\n",
    "    def konus(self):\n",
    "        print(f\"Merhaba, ben {self.isim} {self.soyisim}. Bu dönemki hocanız benim.\")\n",
    "\n",
    "    def ders_ver(self):\n",
    "        print(f\"{self.sicil_numarasi} sicil numaralı {self.isim} hocanız {self.ders} dersini veriyor.\")\n",
    "\n",
    "\n",
    "insan1 = Insan(\"Ahmet\", \"Yılmaz\")\n",
    "insan1.konus()\n",
    "\n",
    "hoca1 = Hoca(\"Ahmet\", \"Yılmaz\", \"Matematik\", \"ID12345\")\n",
    "hoca1.konus()\n",
    "hoca1.ders_ver()"
   ],
   "outputs": [
    {
     "name": "stdout",
     "output_type": "stream",
     "text": [
      "Merhaba, ben Ahmet Yılmaz\n",
      "Merhaba, ben Ahmet Yılmaz. Bu dönemki hocanız benim.\n",
      "ID12345 sicil numaralı Ahmet hocanız Matematik dersini veriyor.\n"
     ]
    }
   ],
   "execution_count": 5
  },
  {
   "metadata": {
    "ExecuteTime": {
     "end_time": "2025-10-13T17:05:36.157376Z",
     "start_time": "2025-10-13T17:05:36.153807Z"
    }
   },
   "cell_type": "code",
   "source": [
    "class Ogrenci(Insan):\n",
    "    def __init__(self, isim, soyisim, ogrenci_numarasi):\n",
    "        super().__init__(isim, soyisim)\n",
    "        self.ogrenci_numarasi = ogrenci_numarasi\n",
    "\n",
    "    def konus(self):\n",
    "        print(f\"Merhaba, ben {self.isim} {self.soyisim}. {self.ogrenci_numarasi} nolu öğrenciyim\")\n",
    "\n",
    "ogrenci1 = Ogrenci(\"Ahmet\", \"Yılmaz\", \"ID12345\")\n",
    "ogrenci1.konus()\n"
   ],
   "id": "7218585ff4102745",
   "outputs": [
    {
     "name": "stdout",
     "output_type": "stream",
     "text": [
      "Merhaba, ben Ahmet Yılmaz. ID12345 nolu öğrenciyim\n"
     ]
    }
   ],
   "execution_count": 7
  },
  {
   "metadata": {
    "ExecuteTime": {
     "end_time": "2025-10-13T17:07:36.823532Z",
     "start_time": "2025-10-13T17:07:36.818449Z"
    }
   },
   "cell_type": "code",
   "source": [
    "class Sekreter(Insan):\n",
    "    def __init__(self, isim, soyisim, sicil_numarasi):\n",
    "        super().__init__(isim, soyisim)\n",
    "        self.sicil_numarasi = sicil_numarasi\n",
    "\n",
    "    def konus(self):\n",
    "        print(f\"Merhaba, ben {self.isim} {self.soyisim}. {self.sicil_numarasi} nolu sekreterim\")\n",
    "\n",
    "sekreter1 = Sekreter(\"Ahmet\", \"Yılmaz\", \"ID12345\")\n",
    "sekreter1.konus()"
   ],
   "id": "3e700488b848280b",
   "outputs": [
    {
     "name": "stdout",
     "output_type": "stream",
     "text": [
      "Merhaba, ben Ahmet Yılmaz. ID12345 nolu sekreterim\n"
     ]
    }
   ],
   "execution_count": 9
  }
 ],
 "metadata": {
  "kernelspec": {
   "display_name": "Python 3",
   "language": "python",
   "name": "python3"
  },
  "language_info": {
   "codemirror_mode": {
    "name": "ipython",
    "version": 2
   },
   "file_extension": ".py",
   "mimetype": "text/x-python",
   "name": "python",
   "nbconvert_exporter": "python",
   "pygments_lexer": "ipython2",
   "version": "2.7.6"
  }
 },
 "nbformat": 4,
 "nbformat_minor": 5
}
