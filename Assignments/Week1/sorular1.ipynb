{
 "cells": [
  {
   "cell_type": "code",
   "id": "initial_id",
   "metadata": {
    "collapsed": true,
    "ExecuteTime": {
     "end_time": "2025-10-13T16:53:38.887502Z",
     "start_time": "2025-10-13T16:53:38.884184Z"
    }
   },
   "source": [
    "class Dikdortgen:\n",
    "    def __init__(self, genislik, yukseklik):\n",
    "        self.genislik = genislik\n",
    "        self.yukseklik = yukseklik\n",
    "\n",
    "    def alan_hesapla(self):\n",
    "        return self.genislik * self.yukseklik\n",
    "\n",
    "\n",
    "dikdortgen1 = Dikdortgen(4, 5)\n",
    "alan = dikdortgen1.alan_hesapla()\n",
    "print(f\"Dikdörtgenin alanı: {alan}\")\n"
   ],
   "outputs": [
    {
     "name": "stdout",
     "output_type": "stream",
     "text": [
      "Dikdörtgenin alanı: 20\n"
     ]
    }
   ],
   "execution_count": 6
  },
  {
   "metadata": {
    "ExecuteTime": {
     "end_time": "2025-10-13T16:53:33.670884Z",
     "start_time": "2025-10-13T16:53:33.667337Z"
    }
   },
   "cell_type": "code",
   "source": [
    "class Kare:\n",
    "    def __init__(self, kenar):\n",
    "        self.kenar = kenar\n",
    "\n",
    "    def kareyi_yazdir(self):\n",
    "        for i in range(self.kenar):\n",
    "            print(\" * \" * self.kenar)\n",
    "\n",
    "kare1 = Kare(6)\n",
    "kare1.kareyi_yazdir()"
   ],
   "id": "b904ce7a98e23419",
   "outputs": [
    {
     "name": "stdout",
     "output_type": "stream",
     "text": [
      " *  *  *  *  *  * \n",
      " *  *  *  *  *  * \n",
      " *  *  *  *  *  * \n",
      " *  *  *  *  *  * \n",
      " *  *  *  *  *  * \n",
      " *  *  *  *  *  * \n"
     ]
    }
   ],
   "execution_count": 5
  },
  {
   "metadata": {
    "ExecuteTime": {
     "end_time": "2025-10-13T16:54:24.789612Z",
     "start_time": "2025-10-13T16:54:24.784077Z"
    }
   },
   "cell_type": "code",
   "source": [
    "class HesapMakinesi:\n",
    "    def topla(self, sayi1, sayi2, sayi3=None):\n",
    "        if sayi3 is not None:\n",
    "            return sayi1 + sayi2 + sayi3\n",
    "        else:\n",
    "            return sayi1 + sayi2\n",
    "\n",
    "hesapla = HesapMakinesi()\n",
    "\n",
    "sonuc1 = hesapla.topla(5, 10)\n",
    "sonuc2 = hesapla.topla(5, 10, 15)\n",
    "\n",
    "print(f\"Toplama sonucu: {sonuc1}\")\n",
    "print(f\"Toplama sonucu: {sonuc2}\")"
   ],
   "id": "7442231f35211926",
   "outputs": [
    {
     "name": "stdout",
     "output_type": "stream",
     "text": [
      "Toplama sonucu: 15\n",
      "Toplama sonucu: 30\n"
     ]
    }
   ],
   "execution_count": 7
  },
  {
   "metadata": {
    "ExecuteTime": {
     "end_time": "2025-10-13T16:54:48.462925Z",
     "start_time": "2025-10-13T16:54:48.459192Z"
    }
   },
   "cell_type": "code",
   "source": [
    "class Merhaba:\n",
    "    def merhaba_yazdir(self):\n",
    "        print(\"Merhaba Dünya\")\n",
    "\n",
    "merhaba = Merhaba()\n",
    "merhaba.merhaba_yazdir()\n",
    "\n"
   ],
   "id": "9cf2b30c6dd628be",
   "outputs": [
    {
     "name": "stdout",
     "output_type": "stream",
     "text": [
      "Merhaba Dünya\n"
     ]
    }
   ],
   "execution_count": 8
  }
 ],
 "metadata": {
  "kernelspec": {
   "display_name": "Python 3",
   "language": "python",
   "name": "python3"
  },
  "language_info": {
   "codemirror_mode": {
    "name": "ipython",
    "version": 2
   },
   "file_extension": ".py",
   "mimetype": "text/x-python",
   "name": "python",
   "nbconvert_exporter": "python",
   "pygments_lexer": "ipython2",
   "version": "2.7.6"
  }
 },
 "nbformat": 4,
 "nbformat_minor": 5
}
