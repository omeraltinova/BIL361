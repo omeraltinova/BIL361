{
 "cells": [
  {
   "metadata": {},
   "cell_type": "markdown",
   "source": "test",
   "id": "a1ef6beec9982204"
  },
  {
   "metadata": {
    "ExecuteTime": {
     "end_time": "2025-10-09T14:00:36.682323Z",
     "start_time": "2025-10-09T14:00:36.680310Z"
    }
   },
   "cell_type": "code",
   "source": "print(\"Hello world\")",
   "id": "a8f3307dbcd91c90",
   "outputs": [
    {
     "name": "stdout",
     "output_type": "stream",
     "text": [
      "Hello world\n"
     ]
    }
   ],
   "execution_count": 2
  },
  {
   "metadata": {
    "ExecuteTime": {
     "end_time": "2025-10-09T14:00:26.681054Z",
     "start_time": "2025-10-09T14:00:26.677473Z"
    }
   },
   "cell_type": "code",
   "source": "print(\"a\")",
   "id": "891272714cb482f2",
   "outputs": [
    {
     "name": "stdout",
     "output_type": "stream",
     "text": [
      "a\n"
     ]
    }
   ],
   "execution_count": 1
  }
 ],
 "metadata": {
  "kernelspec": {
   "display_name": "Python 3",
   "language": "python",
   "name": "python3"
  },
  "language_info": {
   "codemirror_mode": {
    "name": "ipython",
    "version": 2
   },
   "file_extension": ".py",
   "mimetype": "text/x-python",
   "name": "python",
   "nbconvert_exporter": "python",
   "pygments_lexer": "ipython2",
   "version": "2.7.6"
  }
 },
 "nbformat": 4,
 "nbformat_minor": 5
}
